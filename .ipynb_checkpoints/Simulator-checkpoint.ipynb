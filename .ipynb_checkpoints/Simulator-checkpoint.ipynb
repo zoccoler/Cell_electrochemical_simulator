{
 "cells": [
  {
   "cell_type": "code",
   "execution_count": 1,
   "id": "a663e177",
   "metadata": {},
   "outputs": [],
   "source": [
    "import skimage.io as io"
   ]
  },
  {
   "cell_type": "code",
   "execution_count": 2,
   "id": "a3277218",
   "metadata": {},
   "outputs": [],
   "source": [
    "cell_img = io.imread(\"./data/cell_3ch_patch.tif\").astype(float)\n",
    "cell_mask = io.imread(\"./data/mask.tif\").astype(bool)"
   ]
  },
  {
   "cell_type": "code",
   "execution_count": 3,
   "id": "90469581",
   "metadata": {},
   "outputs": [],
   "source": [
    "import matplotlib.pyplot as plt\n",
    "%matplotlib inline\n",
    "# %matplotlib notebook"
   ]
  },
  {
   "cell_type": "code",
   "execution_count": 4,
   "id": "16620bf7",
   "metadata": {},
   "outputs": [],
   "source": [
    "def line_array(color,i):\n",
    "    import numpy as np\n",
    "    if (color==\"cyan\") or (color==\"c\"):\n",
    "        line = np.array([0/256, (i+1)/256, (i+1)/256, 1])\n",
    "    elif (color==\"magenta\") or (color==\"m\"):\n",
    "        line = np.array([(i+1)/256, 0/256, (i+1)/256, 1])\n",
    "    elif (color==\"blue\") or (color==\"b\"):\n",
    "        line = np.array([0/256, 0/256, (i+1)/256, 1])\n",
    "    return(line)\n",
    "def create_fluo_cm(color):\n",
    "    from matplotlib import cm\n",
    "    from matplotlib.colors import ListedColormap\n",
    "    import numpy as np\n",
    "    grays = cm.get_cmap('gray', 256)\n",
    "    newcolors = grays(np.linspace(0, 1, 256))\n",
    "    for i in range(1,newcolors.shape[0]):\n",
    "        newcolors[i,:] = line_array(color,i)\n",
    "    newcmp = ListedColormap(newcolors)\n",
    "    return(newcmp)"
   ]
  },
  {
   "cell_type": "code",
   "execution_count": 184,
   "id": "c7c48a7e",
   "metadata": {},
   "outputs": [],
   "source": [
    "cyan_cm = create_fluo_cm(\"c\")\n",
    "magenta_cm = create_fluo_cm(\"m\")\n",
    "cm_list = [magenta_cm, cyan_cm]"
   ]
  },
  {
   "cell_type": "code",
   "execution_count": 172,
   "id": "9f69f4de",
   "metadata": {},
   "outputs": [],
   "source": [
    "class IonChannel(object):\n",
    "    def __init__(self,ion,lin,col,ide):\n",
    "        self.id = ide\n",
    "        self.x = int(col)\n",
    "        self.y = int(lin)\n",
    "        self.ion = ion\n",
    "        self.state = 'closed'\n",
    "    def ch_open(self):\n",
    "        self.state = 'open'\n",
    "    def ch_close(self):\n",
    "        self.state = 'closed'"
   ]
  },
  {
   "cell_type": "code",
   "execution_count": 252,
   "id": "b67a09d6",
   "metadata": {},
   "outputs": [],
   "source": [
    "def create_channels(n=30,ion='K+'): \n",
    "    import skimage.measure as measure\n",
    "    global cell_mask\n",
    "    import numpy as np\n",
    "    # get cell contour\n",
    "    contours = measure.find_contours(cell_mask.astype(int),0)\n",
    "    # calculate the step size necessary to divide the contours vector in 30 pieces\n",
    "    step = len(contours[0])//30\n",
    "    # calculate the rest that is left of the vector after dividing it in 30 pieces\n",
    "    rest = len(contours[0])%30\n",
    "    \n",
    "    if ion=='K+':\n",
    "        # takes the coordinates of each step\n",
    "        coords = contours[0][::step]\n",
    "        coords = coords[:-1]\n",
    "    else:\n",
    "        # takes the coordinates of each step, but starting at half step\n",
    "        coords = contours[0][step//2::step] \n",
    "    \n",
    "    ch_list = []\n",
    "    coords = coords[np.random.choice(30, n, replace=False)]\n",
    "    for counter,value in enumerate(coords):\n",
    "        ch_list.append(IonChannel(ion,value[0],value[1],counter))\n",
    "    return(ch_list)"
   ]
  },
  {
   "cell_type": "code",
   "execution_count": null,
   "id": "9e32dd0b",
   "metadata": {},
   "outputs": [],
   "source": []
  },
  {
   "cell_type": "code",
   "execution_count": 274,
   "id": "d250de14",
   "metadata": {},
   "outputs": [
    {
     "data": {
      "application/vnd.jupyter.widget-view+json": {
       "model_id": "d96162bd874c4b42a2f85f1860a98948",
       "version_major": 2,
       "version_minor": 0
      },
      "text/plain": [
       "VBox(children=(RadioButtons(options=('tela célula', 'tela potássio [K+]', 'tela sódio [Na+]'), value='tela cél…"
      ]
     },
     "metadata": {},
     "output_type": "display_data"
    }
   ],
   "source": [
    "import ipywidgets as widgets\n",
    "from IPython.display import display\n",
    "import numpy as np\n",
    "\n",
    "'''################ Callback functions ################'''\n",
    "# Updates image from channel selection change\n",
    "def update_screen(v):\n",
    "    '''Function that updates images when images need to be update \n",
    "    (for example, when channel is changed)'''\n",
    "    global cell_img, K_list, Na_list\n",
    "    ax.clear()\n",
    "    # clear images\n",
    "    out.clear_output(wait=True)\n",
    "    with out:\n",
    "        # if channel 1 is selected (index=0)\n",
    "        if channel_sel.index==0:\n",
    "            # show cell image\n",
    "            ax.imshow(cell_img[:,:,0],cmap='gray')\n",
    "        # if channel 2 is selected (index=1)\n",
    "        else:\n",
    "            # show K image\n",
    "            ax.imshow(cell_img[:,:,channel_sel.index],cmap=cm_list[channel_sel.index-1],vmin=0,vmax=255)  \n",
    "            if adv_check.value==True:\n",
    "                for ch in K_list:\n",
    "                    if ch.state=='open':\n",
    "                        color = 'g'\n",
    "                    else:\n",
    "                        color = 'r'\n",
    "                    ax.plot(ch.x,ch.y,marker='d',color=color,ms=12,mew=2,mec='white')\n",
    "                for ch in Na_list:\n",
    "                    if ch.state=='open':\n",
    "                        color = 'g'\n",
    "                    else:\n",
    "                        color = 'r'\n",
    "                    ax.plot(ch.x,ch.y,marker='s',color=color,ms=12,mew=2,mec='white')\n",
    "#         # if channel 3 is selected (index=2)\n",
    "#         elif channel_sel.index==2:\n",
    "#             # show Na image\n",
    "#             ax.imshow(cell_img[:,:,2],cmap=green_cm,vmin=0,vmax=255)\n",
    "#             if adv_check.value=True:\n",
    "#                 for ch in K_list:\n",
    "#                     if ch.state=='open':\n",
    "#                         color = 'g'\n",
    "#                     else:\n",
    "#                         color = 'r'\n",
    "#                     ax.plot(ch.x,ch.y,marker='d',color=color,ms=12,mew=2,mec='white')\n",
    "#                 for ch in K_list:\n",
    "#                     if ch.state=='open':\n",
    "#                         color = 'g'\n",
    "#                     else:\n",
    "#                         color = 'r'\n",
    "#                     ax.plot(ch.x,ch.y,marker='s',color=color,ms=12,mew=2,mec='yellow')\n",
    "        \n",
    "        \n",
    "        \n",
    "        display(fig)\n",
    "        \n",
    "# Updates graphics\n",
    "def update_graphics(Na_o, Na_i, K_o, K_i):\n",
    "    '''Function that updates graphics'''\n",
    "    ax2[0].clear()\n",
    "    ax2[1].clear()\n",
    "    # clear graphics\n",
    "    out2.clear_output(wait=True)\n",
    "    with out2:\n",
    "        # show cell image on axes\n",
    "        time = np.linspace(0,100)\n",
    "        #sources: https://www.cell.com/biophysj/pdf/S0006-3495(81)84820-5.pdf\n",
    "        #        https://en.wikipedia.org/wiki/Goldman_equation\n",
    "        # approximating R*T/F to 26.7 mV (at 37ºC)\n",
    "        P_K = 1.33e-7 #m/s\n",
    "        P_Na = 1.92e-10 #m/s\n",
    "        Em = 26.7*np.log( ( (P_Na * Na_o) + (P_K * K_o) ) / ( (P_Na * Na_i) + (P_K * K_i) ) )\n",
    "#         v0 = -80\n",
    "        potential = Em*np.ones(time.shape)\n",
    "        ax2[0].plot(time, potential)\n",
    "        ax2[0].set_ylabel('Potencial de Membrana (mV)')\n",
    "        ax2[0].set_xlabel('Tempo (s)')\n",
    "        ax2[0].set_ylim([-210,210])\n",
    "        \n",
    "        print('Em = ' + str(np.around(Em,2)) + ' mV')\n",
    "        Na_i_vector = Na_i*np.ones(time.shape)\n",
    "        Na_o_vector = Na_o*np.ones(time.shape)\n",
    "        K_i_vector = K_i*np.ones(time.shape)\n",
    "        K_o_vector = K_o*np.ones(time.shape)\n",
    "        ax2[1].plot(time, Na_i_vector,'cyan',label='[Na+]i')\n",
    "        ax2[1].plot(time, Na_o_vector,'b',label='[Na+]o')\n",
    "        ax2[1].plot(time, K_i_vector,'magenta',label='[K+]i')\n",
    "        ax2[1].plot(time, K_o_vector,'purple',label='[K+]o')\n",
    "        ax2[1].set_ylabel('Concentração (mM)')\n",
    "        ax2[1].set_xlabel('Tempo (s)')\n",
    "        ax2[1].legend(loc='upper right')\n",
    "        display(fig2)\n",
    "        \n",
    "def on_concentration_slider(v):\n",
    "    '''Function that updates images when concentration bars are changed'''\n",
    "    from skimage.filters import gaussian\n",
    "    import numpy as np\n",
    "    global cell_img, cell_mask, Na_o, Na_i, K_o, K_i\n",
    "    value = v['new']\n",
    "    if value==0:\n",
    "        value = 0.1\n",
    "    # if changed bar is K+ i\n",
    "    if v['owner'].description.startswith('[K+]i'):\n",
    "        cell_img[:,:,1][cell_mask] = v['new']\n",
    "        cell_img[:,:,1] = gaussian(cell_img[:,:,1],sigma=2,multichannel=False)\n",
    "        channel_sel.index = 1\n",
    "        K_i = value\n",
    "    # if changed bar is K+ o\n",
    "    elif v['owner'].description.startswith('[K+]o'):\n",
    "        cell_img[:,:,1][np.invert(cell_mask)] = v['new']\n",
    "        cell_img[:,:,1] = gaussian(cell_img[:,:,1],sigma=2,multichannel=False)\n",
    "        channel_sel.index = 1\n",
    "        K_o = value\n",
    "    # if changed bar is Na+ i\n",
    "    elif v['owner'].description.startswith('[Na+]i'):\n",
    "        cell_img[:,:,2][cell_mask] = v['new']\n",
    "        cell_img[:,:,2] = gaussian(cell_img[:,:,2],sigma=2,multichannel=False)\n",
    "        channel_sel.index = 2\n",
    "        Na_i = value\n",
    "    # if changed bar is Na+ i\n",
    "    elif v['owner'].description.startswith('[Na+]o'):\n",
    "        cell_img[:,:,2][np.invert(cell_mask)] = v['new']\n",
    "        cell_img[:,:,2] = gaussian(cell_img[:,:,2],sigma=2,multichannel=False)\n",
    "        channel_sel.index = 2\n",
    "        Na_o = value\n",
    "    #Update screen\n",
    "    update_screen(0)        \n",
    "    update_graphics(Na_o, Na_i, K_o, K_i) \n",
    "\n",
    "def on_adv_check(v):\n",
    "#     global Na_o, Na_i, K_o, K_i, Na_o_slider\n",
    "    if v['new']==True:\n",
    "        Na_ch_slider.layout.visibility='visible'\n",
    "#         Na_ch_label.layout.visibility='visible'\n",
    "        K_ch_slider.layout.visibility='visible'\n",
    "        ch_label.layout.visibility='visible'\n",
    "        Na_o_slider.value = 140\n",
    "        Na_i_slider.value = 10\n",
    "        K_o_slider.value = 5\n",
    "        K_i_slider.value = 140\n",
    "        Na_o_slider.disabled = True\n",
    "        Na_i_slider.disabled = True\n",
    "        K_o_slider.disabled = True\n",
    "        K_i_slider.disabled = True\n",
    "        channel_sel.index = 1\n",
    "    else:\n",
    "        Na_ch_slider.layout.visibility='hidden'\n",
    "#         Na_ch_label.layout.visibility='hidden'\n",
    "        K_ch_slider.layout.visibility='hidden'\n",
    "        ch_label.layout.visibility='hidden'\n",
    "        Na_o_slider.disabled = False\n",
    "        Na_i_slider.disabled = False\n",
    "        K_o_slider.disabled = False\n",
    "        K_i_slider.disabled = False\n",
    "    update_screen(0)\n",
    "    \n",
    "def on_channel_slider(v):\n",
    "    global K_list, Na_list\n",
    "    if v['owner'].description=='K+:':\n",
    "        K_list = create_channels(n=v['new'],ion='K+')\n",
    "        channel_sel.index = 1\n",
    "    else:\n",
    "        Na_list = create_channels(n=v['new'],ion='Na+')\n",
    "        channel_sel.index = 2\n",
    "    update_screen(0)\n",
    "        \n",
    "'''################ Widgets construction ################'''\n",
    "    \n",
    "# Widget of radiobox for channel selection\n",
    "channel_sel = widgets.RadioButtons(\n",
    "    options=['tela célula', 'tela potássio [K+]', 'tela sódio [Na+]'],\n",
    "    description='',\n",
    "    disabled=False \n",
    ")\n",
    "\n",
    "# widget of output images\n",
    "out = widgets.Output(layout={'border': '1px solid black'})\n",
    "# widget of output graphic\n",
    "out2 = widgets.Output(layout={'border': '1px solid black'})\n",
    "# widget of Na+ o slider\n",
    "Na_o_slider = widgets.IntSlider(\n",
    "    value=140,\n",
    "    min=0,\n",
    "    max=200,\n",
    "    step=1,\n",
    "    description='[Na+]o (mM):',\n",
    "    disabled=False,\n",
    "    continuous_update=False,\n",
    "    orientation='horizontal',\n",
    "    readout=True,\n",
    "    readout_format='d'\n",
    ")\n",
    "# widget of Na+ i slider\n",
    "Na_i_slider = widgets.IntSlider(\n",
    "    value=10,\n",
    "    min=0,\n",
    "    max=200,\n",
    "    step=1,\n",
    "    description='[Na+]i (mM):',\n",
    "    disabled=False,\n",
    "    continuous_update=False,\n",
    "    orientation='horizontal',\n",
    "    readout=True,\n",
    "    readout_format='d'\n",
    ")\n",
    "# widget of K+ o slider\n",
    "K_o_slider = widgets.IntSlider(\n",
    "    value=5,\n",
    "    min=0,\n",
    "    max=200,\n",
    "    step=1,\n",
    "    description='[K+]o (mM):',\n",
    "    disabled=False,\n",
    "    continuous_update=False,\n",
    "    orientation='horizontal',\n",
    "    readout=True,\n",
    "    readout_format='d'\n",
    ")\n",
    "# widget of K+ o slider\n",
    "K_i_slider = widgets.IntSlider(\n",
    "    value=140,\n",
    "    min=0,\n",
    "    max=200,\n",
    "    step=1,\n",
    "    description='[K+]i (mM):',\n",
    "    disabled=False,\n",
    "    continuous_update=False,\n",
    "    orientation='horizontal',\n",
    "    readout=True,\n",
    "    readout_format='d'\n",
    ")\n",
    "\n",
    "adv_check = widgets.Checkbox(\n",
    "    value=False,\n",
    "    description='Modo Avançado',\n",
    "    disabled=False,\n",
    "    indent=False\n",
    ")\n",
    "# Na_ch_label = widgets.Label(\n",
    "#     value=\"Núm. canais de Na+:\",\n",
    "#     layout=widgets.Layout(visibility='hidden')\n",
    "# )\n",
    "Na_ch_slider = widgets.IntSlider(\n",
    "    value=5,\n",
    "    min=1,\n",
    "    max=30,\n",
    "    step=1,\n",
    "    description='Na+:',\n",
    "    disabled=False,\n",
    "    continuous_update=False,\n",
    "    orientation='horizontal',\n",
    "    readout=True,\n",
    "    readout_format='d',\n",
    "    layout=widgets.Layout(visibility='hidden')\n",
    ")\n",
    "ch_label = widgets.Label(\n",
    "    value=\"Núm. canais de\",\n",
    "    layout=widgets.Layout(visibility='hidden')\n",
    ")\n",
    "K_ch_slider = widgets.IntSlider(\n",
    "    value=5,\n",
    "    min=1,\n",
    "    max=30,\n",
    "    step=1,\n",
    "    description='K+:',\n",
    "    disabled=False,\n",
    "    continuous_update=False,\n",
    "    orientation='horizontal',\n",
    "    readout=True,\n",
    "    readout_format='d',\n",
    "    layout=widgets.Layout(visibility='hidden',align_self='flex-start')\n",
    ")\n",
    "K_list = []\n",
    "Na_list = []\n",
    "Na_o = Na_o_slider.value\n",
    "Na_i = Na_i_slider.value\n",
    "K_o = K_o_slider.value\n",
    "K_i = K_i_slider.value\n",
    "\n",
    "# Block of widgets containing Na+ sliders\n",
    "vbox_conc_Na = widgets.VBox([Na_o_slider,Na_i_slider], align_self='stretch',justify_content='center')\n",
    "# Block of widgets containing K+ sliders\n",
    "vbox_conc_K = widgets.VBox([K_o_slider,K_i_slider], align_self='stretch',justify_content='center')\n",
    "# Block of widgets containing num K+ channel slider\n",
    "hbox_num_ch = widgets.HBox([ch_label,K_ch_slider,Na_ch_slider], align_self='stretch',justify_content='center')\n",
    "# # Block of widgets containing num Na+ channel slider\n",
    "# hbox_num_ch_Na = widgets.HBox([Na_ch_label,Na_ch_slider], align_self='stretch',justify_content='center')\n",
    "# # Block of widgets containing channel sliders\n",
    "# vbox_num_ch = widgets.HBox([hbox_num_ch_K,hbox_num_ch_Na], align_self='stretch',justify_content='center')\n",
    "# Block of widgets containing all concentration sliders\n",
    "hbox_ions = widgets.HBox([vbox_conc_K,vbox_conc_Na,adv_check], align_self='stretch',justify_content='center',align_content='center')\n",
    "# Block of widgets containing channel selection and output images\n",
    "vbox_fig = widgets.VBox([channel_sel,out,hbox_ions,hbox_num_ch,out2], align_self='stretch',justify_content='center')\n",
    "# Show cell image on first time\n",
    "with out:\n",
    "    # create figure and axes\n",
    "    fig, ax = plt.subplots(figsize=(15,10))\n",
    "    # show cell image on axes\n",
    "    ax.imshow(cell_img[:,:,0],cmap='gray')\n",
    "    # draw changes\n",
    "    plt.show(fig)\n",
    "\n",
    "# Show graphics on first time\n",
    "with out2:\n",
    "    # create figure and axes\n",
    "    fig2, ax2 = plt.subplots(1,2,figsize=(15,5))\n",
    "    # show cell image on axes\n",
    "    time = np.linspace(0,100)\n",
    "    P_K = 1.33e-7 #m/s\n",
    "    P_Na = 1.92e-10 #m/s\n",
    "    Em = 26.7*np.log( ( (P_Na * Na_o) + (P_K * K_o) ) / ( (P_Na * Na_i) + (P_K * K_i) ) )\n",
    "    potential = Em*np.ones(time.shape)\n",
    "    ax2[0].plot(time, potential)\n",
    "    ax2[0].set_ylabel('Potencial de Membrana (mV)')\n",
    "    ax2[0].set_xlabel('Tempo (s)')\n",
    "    ax2[0].set_ylim([-210,210])\n",
    "    Na_i_vector = Na_i*np.ones(time.shape)\n",
    "    Na_o_vector = Na_o*np.ones(time.shape)\n",
    "    K_i_vector = K_i*np.ones(time.shape)\n",
    "    K_o_vector = K_o*np.ones(time.shape)\n",
    "    ax2[1].plot(time, Na_i_vector,'cyan',label='[Na+]i')\n",
    "    ax2[1].plot(time, Na_o_vector,'b',label='[Na+]o')\n",
    "    ax2[1].plot(time, K_i_vector,'magenta',label='[K+]i')\n",
    "    ax2[1].plot(time, K_o_vector,'purple',label='[K+]o')\n",
    "    ax2[1].set_ylabel('Concentração (mM)')\n",
    "    ax2[1].set_xlabel('Tempo (s)')\n",
    "    ax2[1].legend(loc='upper right')\n",
    "    # draw changes\n",
    "    plt.show(fig2)\n",
    "\n",
    "# Link changes in Radiobox widget (channel selection) to screen update function\n",
    "channel_sel.observe(update_screen,names='value')\n",
    "# Link changes in slider widgets (ion concentrations) to concentration function\n",
    "K_i_slider.observe(on_concentration_slider, names='value')\n",
    "K_o_slider.observe(on_concentration_slider, names='value')\n",
    "Na_i_slider.observe(on_concentration_slider, names='value')\n",
    "Na_o_slider.observe(on_concentration_slider, names='value')\n",
    "adv_check.observe(on_adv_check, names='value')\n",
    "K_ch_slider.observe(on_channel_slider, names='value')\n",
    "Na_ch_slider.observe(on_channel_slider, names='value')\n",
    "\n",
    "# Display main Block of widgets\n",
    "vbox_fig"
   ]
  },
  {
   "cell_type": "code",
   "execution_count": 268,
   "id": "96e4d3ea",
   "metadata": {},
   "outputs": [
    {
     "data": {
      "text/plain": [
       "-87.91461287819668"
      ]
     },
     "execution_count": 268,
     "metadata": {},
     "output_type": "execute_result"
    }
   ],
   "source": [
    "Em"
   ]
  },
  {
   "cell_type": "code",
   "execution_count": 265,
   "id": "d5d0a7ce",
   "metadata": {},
   "outputs": [
    {
     "name": "stderr",
     "output_type": "stream",
     "text": [
      "C:\\Users\\Marcelo_Researcher\\anaconda3\\envs\\rstudio\\lib\\site-packages\\ipykernel_launcher.py:1: RuntimeWarning: divide by zero encountered in log\n",
      "  \"\"\"Entry point for launching an IPython kernel.\n"
     ]
    },
    {
     "data": {
      "text/plain": [
       "-inf"
      ]
     },
     "execution_count": 265,
     "metadata": {},
     "output_type": "execute_result"
    }
   ],
   "source": [
    "np.log(0)"
   ]
  },
  {
   "cell_type": "code",
   "execution_count": 12,
   "id": "ea5ee116",
   "metadata": {},
   "outputs": [
    {
     "data": {
      "text/plain": [
       "<matplotlib.image.AxesImage at 0x1d21ab0fd68>"
      ]
     },
     "execution_count": 12,
     "metadata": {},
     "output_type": "execute_result"
    },
    {
     "data": {
      "image/png": "[encoded data removed]",
      "text/plain": [
       "<Figure size 432x288 with 1 Axes>"
      ]
     },
     "metadata": {
      "needs_background": "light"
     },
     "output_type": "display_data"
    }
   ],
   "source": [
    "plt.imshow(cell_mask,cmap='gray')"
   ]
  },
  {
   "cell_type": "code",
   "execution_count": 15,
   "id": "3d698af7",
   "metadata": {},
   "outputs": [],
   "source": [
    "import skimage.measure as measure\n",
    "contours = measure.find_contours(cell_mask.astype(int),0)"
   ]
  },
  {
   "cell_type": "code",
   "execution_count": 20,
   "id": "fad1581c",
   "metadata": {},
   "outputs": [
    {
     "data": {
      "text/plain": [
       "[<matplotlib.lines.Line2D at 0x1d21b5fad30>]"
      ]
     },
     "execution_count": 20,
     "metadata": {},
     "output_type": "execute_result"
    },
    {
     "data": {
      "image/png": "[encoded data removed]",
      "text/plain": [
       "<Figure size 432x288 with 1 Axes>"
      ]
     },
     "metadata": {
      "needs_background": "light"
     },
     "output_type": "display_data"
    }
   ],
   "source": [
    "plt.imshow(cell_mask,cmap='gray')\n",
    "plt.plot(contours[0][:,1],contours[0][:,0])\n",
    "plt.plot(contours[0][0,1],contours[0][0,0],'*',ms=15)"
   ]
  },
  {
   "cell_type": "code",
   "execution_count": 32,
   "id": "c1bca1c4",
   "metadata": {},
   "outputs": [],
   "source": [
    "div = len(contours[0])//30"
   ]
  },
  {
   "cell_type": "code",
   "execution_count": 187,
   "id": "497a86db",
   "metadata": {},
   "outputs": [],
   "source": [
    "class IonChannel(object):\n",
    "    def __init__(self,ion,lin,col,ide):\n",
    "        self.id = ide\n",
    "        self.x = int(col)\n",
    "        self.y = int(lin)\n",
    "        self.ion = ion\n",
    "        self.state = 'closed'\n",
    "    def ch_open(self):\n",
    "        self.state = 'open'\n",
    "    def ch_close(self):\n",
    "        self.state = 'closed'"
   ]
  },
  {
   "cell_type": "code",
   "execution_count": 245,
   "id": "4f688e75",
   "metadata": {},
   "outputs": [],
   "source": [
    "def create_channels(n=30,ion='K+'): \n",
    "    import skimage.measure as measure\n",
    "    global cell_mask\n",
    "    import numpy as np\n",
    "    # get cell contour\n",
    "    contours = measure.find_contours(cell_mask.astype(int),0)\n",
    "    # calculate the step size necessary to divide the contours vector in 30 pieces\n",
    "    step = len(contours[0])//30\n",
    "    # calculate the rest that is left of the vector after dividing it in 30 pieces\n",
    "    rest = len(contours[0])%30\n",
    "    \n",
    "    if ion=='K+':\n",
    "        # takes the coordinates of each step\n",
    "        coords = contours[0][::step]\n",
    "        coords = coords[:-1]\n",
    "    else:\n",
    "        # takes the coordinates of each step, but starting at half step\n",
    "        coords = contours[0][step//2::step] \n",
    "    \n",
    "    ch_list = []\n",
    "    coords = coords[np.random.choice(30, n, replace=False)]\n",
    "    for counter,value in enumerate(coords):\n",
    "        print('counter=',counter)\n",
    "        ch_list.append(IonChannel(ion,value[0],value[1],counter))\n",
    "    return(ch_list)"
   ]
  },
  {
   "cell_type": "code",
   "execution_count": 238,
   "id": "c6460fd5",
   "metadata": {},
   "outputs": [],
   "source": [
    "a = np.random.choice(30, nn, replace=False)\n",
    "b = np.random.choice(10, 5, replace=False)"
   ]
  },
  {
   "cell_type": "code",
   "execution_count": 244,
   "id": "df220426",
   "metadata": {},
   "outputs": [
    {
     "data": {
      "text/plain": [
       "array([2, 0, 0, 0, 0, 2, 0, 2, 0, 2, 0, 2, 0, 1, 0, 1, 1, 0, 2, 2, 2, 0,\n",
       "       2, 1, 1, 0, 0, 2, 0, 0, 1, 0, 0, 0, 0, 2, 1, 0, 2, 2])"
      ]
     },
     "execution_count": 244,
     "metadata": {},
     "output_type": "execute_result"
    }
   ],
   "source": [
    "np.random.choice(3, 40)"
   ]
  },
  {
   "cell_type": "code",
   "execution_count": 240,
   "id": "93e2f7da",
   "metadata": {},
   "outputs": [
    {
     "name": "stdout",
     "output_type": "stream",
     "text": [
      "[23  1 22  7 27 28 15  6  4 29  8 13 14 18 11 25]\n",
      "[0 1 6 2 7]\n",
      "[23  1 15 22  6]\n"
     ]
    }
   ],
   "source": [
    "print(a)\n",
    "print(b)\n",
    "print(a[b])"
   ]
  },
  {
   "cell_type": "code",
   "execution_count": 249,
   "id": "0e2661cb",
   "metadata": {},
   "outputs": [
    {
     "name": "stdout",
     "output_type": "stream",
     "text": [
      "counter= 0\n",
      "counter= 1\n",
      "counter= 2\n",
      "counter= 3\n",
      "counter= 4\n",
      "counter= 5\n",
      "counter= 6\n",
      "counter= 0\n",
      "counter= 1\n",
      "counter= 2\n",
      "counter= 3\n",
      "counter= 4\n",
      "counter= 5\n",
      "counter= 6\n"
     ]
    }
   ],
   "source": [
    "nn=7\n",
    "ch_list = create_channels(n=nn,ion='Na+')\n",
    "ch_list2 = create_channels(n=nn,ion='K+')"
   ]
  },
  {
   "cell_type": "code",
   "execution_count": 195,
   "id": "33d41a7c",
   "metadata": {},
   "outputs": [
    {
     "data": {
      "text/plain": [
       "8"
      ]
     },
     "execution_count": 195,
     "metadata": {},
     "output_type": "execute_result"
    }
   ],
   "source": [
    "len(ch_list)"
   ]
  },
  {
   "cell_type": "code",
   "execution_count": 196,
   "id": "fa98ac31",
   "metadata": {},
   "outputs": [
    {
     "data": {
      "image/png": "[encoded data removed]",
      "text/plain": [
       "<Figure size 1080x1080 with 1 Axes>"
      ]
     },
     "metadata": {
      "needs_background": "light"
     },
     "output_type": "display_data"
    }
   ],
   "source": [
    "fig, ax = plt.subplots(figsize=(15,15))\n",
    "ax.imshow(cell_mask,cmap='gray')\n",
    "# ax.plot(contours[0][:,1],contours[0][:,0])\n",
    "for ch in ch_list:\n",
    "    if ch.ion=='K+':\n",
    "        marker = 'd'\n",
    "        mec = 'white'\n",
    "    else:\n",
    "        marker = 's'\n",
    "        mec = 'yellow'\n",
    "    if ch.state=='open':\n",
    "        color = 'g'\n",
    "    else:\n",
    "        color = 'r'\n",
    "    ax.plot(ch.x,ch.y,marker=marker,color=color,ms=12,mew=2,mec=mec)\n",
    "    \n",
    "for ch in ch_list2:\n",
    "    if ch.ion=='K+':\n",
    "        marker = 'd'\n",
    "        mec = 'white'\n",
    "    else:\n",
    "        marker = 's'\n",
    "        mec = 'yellow'\n",
    "    if ch.state=='open':\n",
    "        color = 'g'\n",
    "    else:\n",
    "        color = 'r'\n",
    "    ax.plot(ch.x,ch.y,marker=marker,color=color,ms=12,mew=2,mec=mec)"
   ]
  },
  {
   "cell_type": "code",
   "execution_count": 170,
   "id": "2254f1a9",
   "metadata": {},
   "outputs": [],
   "source": [
    "ch_list2[2].ch_open()"
   ]
  },
  {
   "cell_type": "code",
   "execution_count": null,
   "id": "877dacb2",
   "metadata": {},
   "outputs": [],
   "source": []
  }
 ],
 "metadata": {
  "kernelspec": {
   "display_name": "Python 3",
   "language": "python",
   "name": "python3"
  },
  "language_info": {
   "codemirror_mode": {
    "name": "ipython",
    "version": 3
   },
   "file_extension": ".py",
   "mimetype": "text/x-python",
   "name": "python",
   "nbconvert_exporter": "python",
   "pygments_lexer": "ipython3",
   "version": "3.7.1"
  }
 },
 "nbformat": 4,
 "nbformat_minor": 5
}
