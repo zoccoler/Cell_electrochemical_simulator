{
 "cells": [
  {
   "cell_type": "code",
   "execution_count": 1,
   "id": "8848ece8",
   "metadata": {},
   "outputs": [],
   "source": [
    "import numpy as np\n",
    "import ipywidgets as widgets\n",
    "import matplotlib.pyplot as plt\n",
    "%matplotlib inline"
   ]
  },
  {
   "cell_type": "markdown",
   "id": "ef045ca1",
   "metadata": {},
   "source": [
    "## Reference parameters: concentrations, conductances, potentials and currents"
   ]
  },
  {
   "cell_type": "code",
   "execution_count": 2,
   "id": "9e87530f",
   "metadata": {},
   "outputs": [],
   "source": [
    "conc_Na_i_ref = 15   # [Na]i reference (mM)\n",
    "conc_K_i_ref = 140   # [K]i reference  (mM)\n",
    "conc_Na_o_ref = 150  # [Na]o reference (mM)\n",
    "conc_K_o_ref = 5     # [K]o reference  (mM)\n",
    "\n",
    "G_K_ref = 2500  # K conductance reference (pS)\n",
    "G_Na_ref = 445  # Na conductance reference (pS)\n",
    "\n",
    "E_K_ref = -0.06*np.log10(conc_K_i_ref / conc_K_o_ref)  # K equilibrium potential (V)\n",
    "E_Na_ref = -0.06*np.log10(conc_Na_i_ref / conc_Na_o_ref) # Na equilibrium potential (V)\n",
    "\n",
    "Vm_init = ( (E_K_ref)*G_K_ref + (E_Na_ref)*G_Na_ref ) \\\n",
    "           / (G_K_ref + G_Na_ref)   # membrane equilibrium potential (V)\n",
    "\n",
    "I_K_ref = (Vm_init - E_K_ref) * G_K_ref*1e-12 # K current reference (A)\n",
    "I_Na_ref = (Vm_init - E_Na_ref) * G_Na_ref*1e-12 # Na current reference (A)"
   ]
  },
  {
   "cell_type": "code",
   "execution_count": 3,
   "id": "7b807019",
   "metadata": {},
   "outputs": [
    {
     "data": {
      "text/plain": [
       "-0.06464302366768519"
      ]
     },
     "execution_count": 3,
     "metadata": {},
     "output_type": "execute_result"
    }
   ],
   "source": [
    "Vm_init   #eq corda"
   ]
  },
  {
   "cell_type": "markdown",
   "id": "5ffb24d0",
   "metadata": {},
   "source": [
    "## Reference parameters: cell parameters"
   ]
  },
  {
   "cell_type": "code",
   "execution_count": 4,
   "id": "eb979c80",
   "metadata": {},
   "outputs": [],
   "source": [
    "cell_radius = 5 # cell radius (um)\n",
    "cell_vol = (4/3)*np.pi*((cell_radius*1e-6)**3)*1000 # cell volume (L) *slightly different from excel\n",
    "cell_capacitance = 4*np.pi*(cell_radius**2)*0.01  # cell capacitance (pF)\n",
    "Rm_ref = 1000/(G_K_ref+G_Na_ref)  # membrane resistance (GOhm)\n",
    "tau_ref = Rm_ref*cell_capacitance*1e-3  # time constant (s)"
   ]
  },
  {
   "cell_type": "code",
   "execution_count": 5,
   "id": "a601359b",
   "metadata": {},
   "outputs": [
    {
     "data": {
      "text/plain": [
       "0.0010667547210831217"
      ]
     },
     "execution_count": 5,
     "metadata": {},
     "output_type": "execute_result"
    }
   ],
   "source": [
    "tau_ref"
   ]
  },
  {
   "cell_type": "code",
   "execution_count": 6,
   "id": "87ab9008",
   "metadata": {},
   "outputs": [
    {
     "data": {
      "text/plain": [
       "3.141592653589793"
      ]
     },
     "execution_count": 6,
     "metadata": {},
     "output_type": "execute_result"
    }
   ],
   "source": [
    "cell_capacitance"
   ]
  },
  {
   "cell_type": "markdown",
   "id": "5aabc004",
   "metadata": {},
   "source": [
    "## Reference parameters: permeabilities and fluxes"
   ]
  },
  {
   "cell_type": "code",
   "execution_count": 7,
   "id": "10ad4097",
   "metadata": {},
   "outputs": [],
   "source": [
    "R = 8.314  # universal gas constant (J*K-1*mol-1)\n",
    "T = 310.15 # temperature (K)\n",
    "F = 96485  # Farady cinstant (C*mol-1)\n",
    "z = 1      # charge number (+1 for K+ and Na+)\n",
    "\n",
    "alpha = z*F*Vm_init/(R*T)\n",
    "# K permeability (C*s-1*V-1)\n",
    "P_K_ref = ( G_K_ref*1e-12*R*T * ( 1 - np.exp(alpha) )*(Vm_init - E_K_ref) ) \\\n",
    "            / ( (z**2)*(F**2)*Vm_init \\\n",
    "              * (conc_K_o_ref - conc_K_i_ref*(np.exp(alpha)) ) )\n",
    "# Na permeability (C*s-1*V-1)\n",
    "P_Na_ref = ( G_Na_ref*1e-12*R*T * ( 1 - np.exp(alpha) )*(Vm_init - E_Na_ref) ) \\\n",
    "            / ( (z**2)*(F**2)*Vm_init \\\n",
    "              * (conc_Na_o_ref - conc_Na_i_ref*(np.exp(alpha)) ) )\n",
    "\n",
    "J_K_ref = I_K_ref/F    # K flow (mol/s)\n",
    "J_Na_ref = I_Na_ref/F  # Na flow (mol/s)"
   ]
  },
  {
   "cell_type": "code",
   "execution_count": 8,
   "id": "14b053e3",
   "metadata": {},
   "outputs": [
    {
     "name": "stdout",
     "output_type": "stream",
     "text": [
      "2.9006942086492596e-17 1.456350185708099e-18 \n",
      "\n",
      "PK/PNa =  19.917559918728607\n"
     ]
    }
   ],
   "source": [
    "print(P_K_ref, P_Na_ref,'\\n')\n",
    "print('PK/PNa = ', P_K_ref/P_Na_ref)"
   ]
  },
  {
   "cell_type": "code",
   "execution_count": 9,
   "id": "9de98f8d",
   "metadata": {},
   "outputs": [],
   "source": [
    "# membrane equilibrium potential (V) by GHK\n",
    "Vm_ref = 0.06*np.log10(((P_K_ref*conc_K_o_ref) + (P_Na_ref*conc_Na_o_ref)) \\\n",
    "                         / ((P_K_ref*conc_K_i_ref) + (P_Na_ref*conc_Na_i_ref))) "
   ]
  },
  {
   "cell_type": "code",
   "execution_count": 10,
   "id": "1143aa5f",
   "metadata": {},
   "outputs": [
    {
     "data": {
      "text/plain": [
       "-0.06302824572327581"
      ]
     },
     "execution_count": 10,
     "metadata": {},
     "output_type": "execute_result"
    }
   ],
   "source": [
    "Vm_ref"
   ]
  },
  {
   "cell_type": "markdown",
   "id": "aa874836",
   "metadata": {},
   "source": [
    "## number of channels"
   ]
  },
  {
   "cell_type": "code",
   "execution_count": 11,
   "id": "84192f37",
   "metadata": {},
   "outputs": [
    {
     "data": {
      "application/vnd.jupyter.widget-view+json": {
       "model_id": "a4c1a5fef79f4eeb9bf24852bd824832",
       "version_major": 2,
       "version_minor": 0
      },
      "text/plain": [
       "IntSlider(value=20, continuous_update=False, description='K+ (♦)', max=20)"
      ]
     },
     "metadata": {},
     "output_type": "display_data"
    },
    {
     "data": {
      "application/vnd.jupyter.widget-view+json": {
       "model_id": "df80d0577bca463a904f1bf9f2227d1d",
       "version_major": 2,
       "version_minor": 0
      },
      "text/plain": [
       "IntSlider(value=1, continuous_update=False, description='Na+ (■)', max=20)"
      ]
     },
     "metadata": {},
     "output_type": "display_data"
    }
   ],
   "source": [
    "from IPython.display import display\n",
    "K_ch_slider = widgets.IntSlider(\n",
    "    value=20,\n",
    "    min=0,\n",
    "    max=20,\n",
    "    step=1,\n",
    "    description='K+ (♦)',\n",
    "    disabled=False,\n",
    "    continuous_update=False,\n",
    "    orientation='horizontal',\n",
    "    readout=True,\n",
    "    readout_format='d'\n",
    ")\n",
    "Na_ch_slider = widgets.IntSlider(\n",
    "    value=1,\n",
    "    min=0,\n",
    "    max=20,\n",
    "    step=1,\n",
    "    description='Na+ (■)',\n",
    "    disabled=False,\n",
    "    continuous_update=False,\n",
    "    orientation='horizontal',\n",
    "    readout=True,\n",
    "    readout_format='d'\n",
    ")\n",
    "\n",
    "display(K_ch_slider, Na_ch_slider)"
   ]
  },
  {
   "cell_type": "code",
   "execution_count": 90,
   "id": "b9a213db",
   "metadata": {},
   "outputs": [],
   "source": [
    "K_channels = K_ch_slider.value\n",
    "Na_channels = Na_ch_slider.value"
   ]
  },
  {
   "cell_type": "code",
   "execution_count": 91,
   "id": "9b2c646c",
   "metadata": {},
   "outputs": [],
   "source": [
    "def update_params(K_channels, Na_channels, conc_K_i, conc_Na_i, Vm, conc_K_i_Fick, conc_Na_i_Fick, time=0, time_step=None):\n",
    "    import numpy as np\n",
    "    global R, T, F, z, cell_vol, conc_K_o_ref, conc_Na_o_ref, P_K_ref, \\\n",
    "                P_Na_ref, cell_capacitance\n",
    "\n",
    "    # new potential values\n",
    "    E_K = -0.06*np.log10(conc_K_i/conc_K_o_ref)\n",
    "    E_Na = -0.06*np.log10(conc_Na_i/conc_Na_o_ref)\n",
    "    \n",
    "    P_K = P_K_ref*(K_channels/20) \n",
    "    P_Na = P_Na_ref*Na_channels    \n",
    "    \n",
    "    # new conducatances (S)\n",
    "    alpha = z*F*Vm/(R*T)\n",
    "    G_K = ((z*F)**2)*P_K*Vm*( conc_K_o_ref - conc_K_i*np.exp(alpha) ) \\\n",
    "            / ( R*T*( 1 - np.exp(alpha)) * (Vm - E_K) )\n",
    "    G_Na = ((z*F)**2)*P_Na*Vm*( conc_Na_o_ref - conc_Na_i*np.exp(alpha) ) \\\n",
    "            / ( R*T*( 1 - np.exp(alpha)) * (Vm - E_Na) )\n",
    "    \n",
    "    # if not max calculation\n",
    "    if time_step!=None:\n",
    "        tau = cell_capacitance*1e-12 / (G_K + G_Na) # in (s)\n",
    "        time_step = tau\n",
    "#         print('tau=',tau)\n",
    "        time += time_step\n",
    "#         print('time=',time)\n",
    "        # new currents (A)\n",
    "        I_K = G_K*(Vm - E_K) \n",
    "        I_Na = G_Na*(Vm - E_Na) \n",
    "        # new flows (mols/s)\n",
    "        J_K = I_K/F    \n",
    "        J_Na = I_Na/F  \n",
    "        # new concentrations (mM)\n",
    "        conc_K_i -= 1e3*J_K*time_step/cell_vol\n",
    "        conc_Na_i -= 1e3*J_Na*time_step/cell_vol\n",
    "        \n",
    "        # V(t) = A*exp(-t/tau) + D\n",
    "        # D = Vnew\n",
    "        # A = Vold - Vnew\n",
    "        # V(t) = (Vold - Vnew)*exp(-t/tau) + Vnew\n",
    "        \n",
    "        \n",
    "        Vm_old = Vm\n",
    "        Vm_new = 0.06*np.log10(((P_K*conc_K_o_ref) + (P_Na*conc_Na_o_ref)) \\\n",
    "                         / ((P_K*conc_K_i) + (P_Na*conc_Na_i)))\n",
    "        A = Vm_old - Vm_new\n",
    "        \n",
    "        # new membrane potential function at time t (mV)    \n",
    "#         Vm = A*np.exp(-1) + Vm_new\n",
    "        Vm = A*np.exp(-time_step/tau) + Vm_new\n",
    "    \n",
    "    \n",
    "        ### Fick's law ###\n",
    "        J_K_Fick = P_K*(conc_K_o_ref - conc_K_i_Fick)\n",
    "        J_Na_Fick = P_Na*(conc_Na_o_ref - conc_Na_i_Fick)\n",
    "#         print(J_Na_Fick, conc_Na_i_Fick, time, cell_vol)\n",
    "        # new concentrations (mM)\n",
    "        conc_K_i_Fick += 1e3*J_K_Fick*time/cell_vol\n",
    "        conc_Na_i_Fick += 1e3*J_Na_Fick*time/cell_vol\n",
    "        \n",
    "    return(G_K, G_Na, conc_K_i, conc_Na_i, Vm, conc_K_i_Fick, conc_Na_i_Fick, time)"
   ]
  },
  {
   "cell_type": "markdown",
   "id": "9b5bb6aa",
   "metadata": {},
   "source": [
    "### Calculate minimal time step"
   ]
  },
  {
   "cell_type": "code",
   "execution_count": 92,
   "id": "b18e3fb0",
   "metadata": {},
   "outputs": [
    {
     "name": "stdout",
     "output_type": "stream",
     "text": [
      "G_K_max =  5.236121903234571e-10 \n",
      "G_Na_max =  1.5773383661251637e-08\n",
      "minimal_time_step =  0.00019277127405577393\n"
     ]
    }
   ],
   "source": [
    "G_K_max, G_Na_max, conc_K_i, conc_Na_i, Vm, conc_K_i_Fick, conc_Na_i_Fick, time = update_params(20, 20, conc_K_o_ref, conc_Na_o_ref, conc_K_o_ref, conc_Na_o_ref, 0.02)\n",
    "print('G_K_max = ',G_K_max,'\\nG_Na_max = ',G_Na_max)\n",
    "time_step = cell_capacitance*1e-12 / (G_K_max + G_Na_max)\n",
    "print('minimal_time_step = ',time_step)"
   ]
  },
  {
   "cell_type": "markdown",
   "id": "bd977c66",
   "metadata": {},
   "source": [
    "### calculate t1 data"
   ]
  },
  {
   "cell_type": "code",
   "execution_count": 93,
   "id": "323e8f96",
   "metadata": {},
   "outputs": [],
   "source": [
    "time = 0"
   ]
  },
  {
   "cell_type": "code",
   "execution_count": 94,
   "id": "8a5e0612",
   "metadata": {},
   "outputs": [
    {
     "name": "stdout",
     "output_type": "stream",
     "text": [
      "G_K =  2.5e-09 \n",
      "G_Na =  4.45e-10\n",
      "G_K =  2.523861559991e-09  G_Na =  2.210117104648642e-09  [K+]i =  139.9992109033576  [Na+]i =  15.003571784678508  Vm =  -0.04320034968672138\n",
      " [K+]i Fick =  139.99503681263593  [Na+]i Fick =  15.001245932580172\n"
     ]
    }
   ],
   "source": [
    "print('G_K = ',G_K_ref*1e-12,'\\nG_Na = ',G_Na_ref*1e-12)\n",
    "G_K1, G_Na1, conc_K_i1, conc_Na_i1, Vm1, conc_K_i_Fick1, conc_Na_i_Fick1, time1 = update_params(K_channels, Na_channels, conc_K_i_ref, conc_Na_i_ref, Vm_ref, conc_K_i_ref, conc_Na_i_ref, time = time, time_step = time_step)\n",
    "print('G_K = ',G_K1,' G_Na = ',G_Na1, ' [K+]i = ', conc_K_i1, ' [Na+]i = ', conc_Na_i1, ' Vm = ',Vm1)\n",
    "print(' [K+]i Fick = ', conc_K_i_Fick1, ' [Na+]i Fick = ', conc_Na_i_Fick1)"
   ]
  },
  {
   "cell_type": "markdown",
   "id": "dc559f40",
   "metadata": {},
   "source": [
    "### calculate t2 data"
   ]
  },
  {
   "cell_type": "code",
   "execution_count": 95,
   "id": "1f0f92e4",
   "metadata": {},
   "outputs": [
    {
     "name": "stdout",
     "output_type": "stream",
     "text": [
      "G_K =  2.523861559991e-09  G_Na =  2.210117104648642e-09  [K+]i =  139.9992109033576  [Na+]i =  15.003571784678508  Vm =  -0.04320034968672138\n",
      "G_K =  2.9506079845234886e-09  G_Na =  2.0189887504067325e-09  [K+]i =  139.99760004658813  [Na+]i =  15.00617889410095  Vm =  -0.03590596479778084\n",
      " [K+]i Fick =  139.98534610838314  [Na+]i Fick =  15.003678703245308\n"
     ]
    }
   ],
   "source": [
    "print('G_K = ',G_K1,' G_Na = ',G_Na1, ' [K+]i = ', conc_K_i1, ' [Na+]i = ', conc_Na_i1, ' Vm = ',Vm1)\n",
    "G_K2, G_Na2, conc_K_i2, conc_Na_i2, Vm2, conc_K_i_Fick2, conc_Na_i_Fick2, time2 = update_params(K_channels, Na_channels, conc_K_i1, conc_Na_i1, Vm1, conc_K_i_Fick1, conc_Na_i_Fick1, time1, time_step = time_step)\n",
    "# print('G_K_max = ',G_K_max,'\\nG_Na_max = ',G_Na_max)\n",
    "print('G_K = ',G_K2,' G_Na = ',G_Na2, ' [K+]i = ', conc_K_i2, ' [Na+]i = ', conc_Na_i2, ' Vm = ',Vm2)\n",
    "print(' [K+]i Fick = ', conc_K_i_Fick2, ' [Na+]i Fick = ', conc_Na_i_Fick2)"
   ]
  },
  {
   "cell_type": "code",
   "execution_count": 96,
   "id": "a44ec45f",
   "metadata": {},
   "outputs": [],
   "source": [
    "# colocar lei de fick (com potencial depois?) DONE\n",
    "# pensar no tamanho do vetor"
   ]
  },
  {
   "cell_type": "code",
   "execution_count": 97,
   "id": "4a488e2a",
   "metadata": {},
   "outputs": [],
   "source": [
    "time_vector = np.arange(0,10,time_step).tolist()"
   ]
  },
  {
   "cell_type": "code",
   "execution_count": 98,
   "id": "d681b55a",
   "metadata": {},
   "outputs": [
    {
     "data": {
      "text/plain": [
       "51875"
      ]
     },
     "execution_count": 98,
     "metadata": {},
     "output_type": "execute_result"
    }
   ],
   "source": [
    "len(time_vector)"
   ]
  },
  {
   "cell_type": "code",
   "execution_count": 99,
   "id": "3ebbc14e",
   "metadata": {},
   "outputs": [
    {
     "data": {
      "text/plain": [
       "51875"
      ]
     },
     "execution_count": 99,
     "metadata": {},
     "output_type": "execute_result"
    }
   ],
   "source": [
    "len(time_vector)"
   ]
  },
  {
   "cell_type": "code",
   "execution_count": 100,
   "id": "a3f07c7f",
   "metadata": {},
   "outputs": [
    {
     "data": {
      "text/plain": [
       "0.00019277127405577393"
      ]
     },
     "execution_count": 100,
     "metadata": {},
     "output_type": "execute_result"
    }
   ],
   "source": [
    "time_step"
   ]
  },
  {
   "cell_type": "code",
   "execution_count": 101,
   "id": "5a991991",
   "metadata": {},
   "outputs": [
    {
     "name": "stdout",
     "output_type": "stream",
     "text": [
      "(51875, 5)\n"
     ]
    }
   ],
   "source": [
    "data = np.empty((len(time_vector),5))\n",
    "print(data.shape)"
   ]
  },
  {
   "cell_type": "code",
   "execution_count": null,
   "id": "1f40d7a3",
   "metadata": {},
   "outputs": [],
   "source": []
  },
  {
   "cell_type": "code",
   "execution_count": 102,
   "id": "e6ccc56b",
   "metadata": {},
   "outputs": [],
   "source": [
    "import pandas as pd\n",
    "df = pd.DataFrame(data, columns=['[K+]i', '[K+]i (Fick)', '[Na+]i', '[Na+]i (Fick)', 'Vm'], index=time_vector)"
   ]
  },
  {
   "cell_type": "code",
   "execution_count": 103,
   "id": "6710e3d2",
   "metadata": {},
   "outputs": [
    {
     "data": {
      "text/html": [
       "<div>\n",
       "<style scoped>\n",
       "    .dataframe tbody tr th:only-of-type {\n",
       "        vertical-align: middle;\n",
       "    }\n",
       "\n",
       "    .dataframe tbody tr th {\n",
       "        vertical-align: top;\n",
       "    }\n",
       "\n",
       "    .dataframe thead th {\n",
       "        text-align: right;\n",
       "    }\n",
       "</style>\n",
       "<table border=\"1\" class=\"dataframe\">\n",
       "  <thead>\n",
       "    <tr style=\"text-align: right;\">\n",
       "      <th></th>\n",
       "      <th>[K+]i</th>\n",
       "      <th>[K+]i (Fick)</th>\n",
       "      <th>[Na+]i</th>\n",
       "      <th>[Na+]i (Fick)</th>\n",
       "      <th>Vm</th>\n",
       "    </tr>\n",
       "  </thead>\n",
       "  <tbody>\n",
       "    <tr>\n",
       "      <th>0.000000</th>\n",
       "      <td>0.0</td>\n",
       "      <td>0.0</td>\n",
       "      <td>0.0</td>\n",
       "      <td>0.0</td>\n",
       "      <td>0.0</td>\n",
       "    </tr>\n",
       "    <tr>\n",
       "      <th>0.000193</th>\n",
       "      <td>0.0</td>\n",
       "      <td>0.0</td>\n",
       "      <td>0.0</td>\n",
       "      <td>0.0</td>\n",
       "      <td>0.0</td>\n",
       "    </tr>\n",
       "    <tr>\n",
       "      <th>0.000386</th>\n",
       "      <td>0.0</td>\n",
       "      <td>0.0</td>\n",
       "      <td>0.0</td>\n",
       "      <td>0.0</td>\n",
       "      <td>0.0</td>\n",
       "    </tr>\n",
       "    <tr>\n",
       "      <th>0.000578</th>\n",
       "      <td>0.0</td>\n",
       "      <td>0.0</td>\n",
       "      <td>0.0</td>\n",
       "      <td>0.0</td>\n",
       "      <td>0.0</td>\n",
       "    </tr>\n",
       "    <tr>\n",
       "      <th>0.000771</th>\n",
       "      <td>0.0</td>\n",
       "      <td>0.0</td>\n",
       "      <td>0.0</td>\n",
       "      <td>0.0</td>\n",
       "      <td>0.0</td>\n",
       "    </tr>\n",
       "    <tr>\n",
       "      <th>...</th>\n",
       "      <td>...</td>\n",
       "      <td>...</td>\n",
       "      <td>...</td>\n",
       "      <td>...</td>\n",
       "      <td>...</td>\n",
       "    </tr>\n",
       "    <tr>\n",
       "      <th>9.999046</th>\n",
       "      <td>0.0</td>\n",
       "      <td>0.0</td>\n",
       "      <td>0.0</td>\n",
       "      <td>0.0</td>\n",
       "      <td>0.0</td>\n",
       "    </tr>\n",
       "    <tr>\n",
       "      <th>9.999239</th>\n",
       "      <td>0.0</td>\n",
       "      <td>0.0</td>\n",
       "      <td>0.0</td>\n",
       "      <td>0.0</td>\n",
       "      <td>0.0</td>\n",
       "    </tr>\n",
       "    <tr>\n",
       "      <th>9.999432</th>\n",
       "      <td>0.0</td>\n",
       "      <td>0.0</td>\n",
       "      <td>0.0</td>\n",
       "      <td>0.0</td>\n",
       "      <td>0.0</td>\n",
       "    </tr>\n",
       "    <tr>\n",
       "      <th>9.999624</th>\n",
       "      <td>0.0</td>\n",
       "      <td>0.0</td>\n",
       "      <td>0.0</td>\n",
       "      <td>0.0</td>\n",
       "      <td>0.0</td>\n",
       "    </tr>\n",
       "    <tr>\n",
       "      <th>9.999817</th>\n",
       "      <td>0.0</td>\n",
       "      <td>0.0</td>\n",
       "      <td>0.0</td>\n",
       "      <td>0.0</td>\n",
       "      <td>0.0</td>\n",
       "    </tr>\n",
       "  </tbody>\n",
       "</table>\n",
       "<p>51875 rows × 5 columns</p>\n",
       "</div>"
      ],
      "text/plain": [
       "          [K+]i  [K+]i (Fick)  [Na+]i  [Na+]i (Fick)   Vm\n",
       "0.000000    0.0           0.0     0.0            0.0  0.0\n",
       "0.000193    0.0           0.0     0.0            0.0  0.0\n",
       "0.000386    0.0           0.0     0.0            0.0  0.0\n",
       "0.000578    0.0           0.0     0.0            0.0  0.0\n",
       "0.000771    0.0           0.0     0.0            0.0  0.0\n",
       "...         ...           ...     ...            ...  ...\n",
       "9.999046    0.0           0.0     0.0            0.0  0.0\n",
       "9.999239    0.0           0.0     0.0            0.0  0.0\n",
       "9.999432    0.0           0.0     0.0            0.0  0.0\n",
       "9.999624    0.0           0.0     0.0            0.0  0.0\n",
       "9.999817    0.0           0.0     0.0            0.0  0.0\n",
       "\n",
       "[51875 rows x 5 columns]"
      ]
     },
     "execution_count": 103,
     "metadata": {},
     "output_type": "execute_result"
    }
   ],
   "source": [
    "df"
   ]
  },
  {
   "cell_type": "code",
   "execution_count": 104,
   "id": "a6cc93b1",
   "metadata": {},
   "outputs": [],
   "source": [
    "new_time_vector = []\n",
    "for counter,t in enumerate(time_vector):\n",
    "    if t==0:\n",
    "        time = 0\n",
    "        conc_K_i, conc_Na_i, Vm, conc_K_i_Fick, conc_Na_i_Fick = conc_K_i_ref, conc_Na_i_ref, Vm_ref, conc_K_i_ref, conc_Na_i_ref\n",
    "    else:\n",
    "        G_K, G_Na, conc_K_i, conc_Na_i, Vm, conc_K_i_Fick, conc_Na_i_Fick, time = update_params(K_channels, Na_channels, conc_K_i, conc_Na_i, Vm, conc_K_i_Fick, conc_Na_i_Fick, time = time, time_step = time_step)\n",
    "    df.iloc[counter,:] = [conc_K_i, conc_K_i_Fick, conc_Na_i, conc_Na_i_Fick, Vm]\n",
    "    new_time_vector.append(time)\n",
    "df['time'] = new_time_vector\n",
    "df.set_index('time', inplace=True)\n",
    "\n",
    "#     df.rename(index={df.index[counter]:time})\n",
    "    \n",
    "#     index_as_list = df.index.tolist()\n",
    "#     index_as_list[counter] = time\n",
    "#     df.index = index_as_list"
   ]
  },
  {
   "cell_type": "code",
   "execution_count": 105,
   "id": "d01e74d1",
   "metadata": {},
   "outputs": [],
   "source": [
    "df['Vm'] *= 1000"
   ]
  },
  {
   "cell_type": "code",
   "execution_count": 106,
   "id": "ca511381",
   "metadata": {},
   "outputs": [
    {
     "data": {
      "text/html": [
       "<div>\n",
       "<style scoped>\n",
       "    .dataframe tbody tr th:only-of-type {\n",
       "        vertical-align: middle;\n",
       "    }\n",
       "\n",
       "    .dataframe tbody tr th {\n",
       "        vertical-align: top;\n",
       "    }\n",
       "\n",
       "    .dataframe thead th {\n",
       "        text-align: right;\n",
       "    }\n",
       "</style>\n",
       "<table border=\"1\" class=\"dataframe\">\n",
       "  <thead>\n",
       "    <tr style=\"text-align: right;\">\n",
       "      <th></th>\n",
       "      <th>[K+]i</th>\n",
       "      <th>[K+]i (Fick)</th>\n",
       "      <th>[Na+]i</th>\n",
       "      <th>[Na+]i (Fick)</th>\n",
       "      <th>Vm</th>\n",
       "    </tr>\n",
       "    <tr>\n",
       "      <th>time</th>\n",
       "      <th></th>\n",
       "      <th></th>\n",
       "      <th></th>\n",
       "      <th></th>\n",
       "      <th></th>\n",
       "    </tr>\n",
       "  </thead>\n",
       "  <tbody>\n",
       "    <tr>\n",
       "      <th>0.000000</th>\n",
       "      <td>140.000000</td>\n",
       "      <td>140.000000</td>\n",
       "      <td>15.000000</td>\n",
       "      <td>15.000000</td>\n",
       "      <td>-63.028246</td>\n",
       "    </tr>\n",
       "    <tr>\n",
       "      <th>0.000664</th>\n",
       "      <td>139.999211</td>\n",
       "      <td>139.995037</td>\n",
       "      <td>15.003572</td>\n",
       "      <td>15.001246</td>\n",
       "      <td>-43.200350</td>\n",
       "    </tr>\n",
       "    <tr>\n",
       "      <th>0.001296</th>\n",
       "      <td>139.997600</td>\n",
       "      <td>139.985346</td>\n",
       "      <td>15.006179</td>\n",
       "      <td>15.003679</td>\n",
       "      <td>-35.905965</td>\n",
       "    </tr>\n",
       "    <tr>\n",
       "      <th>0.001912</th>\n",
       "      <td>139.995642</td>\n",
       "      <td>139.971046</td>\n",
       "      <td>15.008456</td>\n",
       "      <td>15.007269</td>\n",
       "      <td>-33.222352</td>\n",
       "    </tr>\n",
       "    <tr>\n",
       "      <th>0.002523</th>\n",
       "      <td>139.993552</td>\n",
       "      <td>139.952182</td>\n",
       "      <td>15.010617</td>\n",
       "      <td>15.012005</td>\n",
       "      <td>-32.234928</td>\n",
       "    </tr>\n",
       "    <tr>\n",
       "      <th>...</th>\n",
       "      <td>...</td>\n",
       "      <td>...</td>\n",
       "      <td>...</td>\n",
       "      <td>...</td>\n",
       "      <td>...</td>\n",
       "    </tr>\n",
       "    <tr>\n",
       "      <th>30.138247</th>\n",
       "      <td>57.547626</td>\n",
       "      <td>5.000000</td>\n",
       "      <td>94.883486</td>\n",
       "      <td>150.000000</td>\n",
       "      <td>-16.828626</td>\n",
       "    </tr>\n",
       "    <tr>\n",
       "      <th>30.138836</th>\n",
       "      <td>57.546499</td>\n",
       "      <td>5.000000</td>\n",
       "      <td>94.884582</td>\n",
       "      <td>150.000000</td>\n",
       "      <td>-16.828354</td>\n",
       "    </tr>\n",
       "    <tr>\n",
       "      <th>30.139424</th>\n",
       "      <td>57.545372</td>\n",
       "      <td>5.000000</td>\n",
       "      <td>94.885679</td>\n",
       "      <td>150.000000</td>\n",
       "      <td>-16.828081</td>\n",
       "    </tr>\n",
       "    <tr>\n",
       "      <th>30.140012</th>\n",
       "      <td>57.544245</td>\n",
       "      <td>5.000000</td>\n",
       "      <td>94.886775</td>\n",
       "      <td>150.000000</td>\n",
       "      <td>-16.827808</td>\n",
       "    </tr>\n",
       "    <tr>\n",
       "      <th>30.140601</th>\n",
       "      <td>57.543118</td>\n",
       "      <td>5.000000</td>\n",
       "      <td>94.887872</td>\n",
       "      <td>150.000000</td>\n",
       "      <td>-16.827535</td>\n",
       "    </tr>\n",
       "  </tbody>\n",
       "</table>\n",
       "<p>51875 rows × 5 columns</p>\n",
       "</div>"
      ],
      "text/plain": [
       "                [K+]i  [K+]i (Fick)     [Na+]i  [Na+]i (Fick)         Vm\n",
       "time                                                                    \n",
       "0.000000   140.000000    140.000000  15.000000      15.000000 -63.028246\n",
       "0.000664   139.999211    139.995037  15.003572      15.001246 -43.200350\n",
       "0.001296   139.997600    139.985346  15.006179      15.003679 -35.905965\n",
       "0.001912   139.995642    139.971046  15.008456      15.007269 -33.222352\n",
       "0.002523   139.993552    139.952182  15.010617      15.012005 -32.234928\n",
       "...               ...           ...        ...            ...        ...\n",
       "30.138247   57.547626      5.000000  94.883486     150.000000 -16.828626\n",
       "30.138836   57.546499      5.000000  94.884582     150.000000 -16.828354\n",
       "30.139424   57.545372      5.000000  94.885679     150.000000 -16.828081\n",
       "30.140012   57.544245      5.000000  94.886775     150.000000 -16.827808\n",
       "30.140601   57.543118      5.000000  94.887872     150.000000 -16.827535\n",
       "\n",
       "[51875 rows x 5 columns]"
      ]
     },
     "execution_count": 106,
     "metadata": {},
     "output_type": "execute_result"
    }
   ],
   "source": [
    "df"
   ]
  },
  {
   "cell_type": "code",
   "execution_count": 109,
   "id": "d3f565b7",
   "metadata": {},
   "outputs": [
    {
     "data": {
      "text/plain": [
       "<AxesSubplot:xlabel='time'>"
      ]
     },
     "execution_count": 109,
     "metadata": {},
     "output_type": "execute_result"
    },
    {
     "data": {
      "image/png": "[encoded data removed]",
      "text/plain": [
       "<Figure size 1080x576 with 1 Axes>"
      ]
     },
     "metadata": {
      "needs_background": "light"
     },
     "output_type": "display_data"
    }
   ],
   "source": [
    "# df.iloc[:9500,:].plot(figsize=(15,8))\n",
    "df.iloc[:17000,:].plot(figsize=(15,8))"
   ]
  },
  {
   "cell_type": "code",
   "execution_count": 110,
   "id": "fc89a9d7",
   "metadata": {},
   "outputs": [
    {
     "data": {
      "text/plain": [
       "<AxesSubplot:xlabel='time'>"
      ]
     },
     "execution_count": 110,
     "metadata": {},
     "output_type": "execute_result"
    },
    {
     "data": {
      "image/png": "[encoded data removed]",
      "text/plain": [
       "<Figure size 1080x576 with 1 Axes>"
      ]
     },
     "metadata": {
      "needs_background": "light"
     },
     "output_type": "display_data"
    }
   ],
   "source": [
    "# df.iloc[:9500,4].plot(marker='.',figsize=(15,8))\n",
    "df.iloc[:17000,4].plot(marker='.',figsize=(15,8))"
   ]
  },
  {
   "cell_type": "code",
   "execution_count": null,
   "id": "170b3f0d",
   "metadata": {},
   "outputs": [],
   "source": []
  }
 ],
 "metadata": {
  "kernelspec": {
   "display_name": "Python 3",
   "language": "python",
   "name": "python3"
  },
  "language_info": {
   "codemirror_mode": {
    "name": "ipython",
    "version": 3
   },
   "file_extension": ".py",
   "mimetype": "text/x-python",
   "name": "python",
   "nbconvert_exporter": "python",
   "pygments_lexer": "ipython3",
   "version": "3.7.1"
  }
 },
 "nbformat": 4,
 "nbformat_minor": 5
}
